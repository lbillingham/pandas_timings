{
 "cells": [
  {
   "cell_type": "markdown",
   "metadata": {},
   "source": [
    "# Dictionaries vs. `pandas.DataFrames` lookup times\n",
    "We explore the time complexity of lookups in plain python `dicts` and `pandas.DataFrames`.\n",
    "\n",
    "Dictionary lookup should be $\\mathcal{O}(1)$. I expect that `pandas.DataFrame(...).loc[index, col]` is also much better than $\\mathcal{O}(n)$, but with some additional overhead compared to plain `dict`.\n",
    "\n",
    "The context for this, as we'll see in the example, is finding an efficent lookup method for all the [geomagnetic Kp-index](http://www.gfz-potsdam.de/en/section/earths-magnetic-field/data-products-services/kp-index/explanation/) data which may be held in memory. The index is 3-hourly and it begins in 1932-01-01, thus the full dataset would be $\\sim2.5\\times10^5$ samples.\n",
    "\n",
    "There is a seperate issue of wheter this is faster than upsampling $Kp$.  \n",
    "\n",
    "\n",
    "\n",
    "[Caveats: this is nothing like rigorous algorithmic analysis; it is not even proper profiling, just based on `ipython` `timeit` magic, there is a good probabiliy of intermediate result cacheing messing up timings]"
   ]
  },
  {
   "cell_type": "code",
   "execution_count": 1,
   "metadata": {
    "collapsed": false
   },
   "outputs": [],
   "source": [
    "%matplotlib inline\n",
    "import random\n",
    "import timeit\n",
    "\n",
    "import matplotlib\n",
    "import numpy as np\n",
    "import pandas as pd\n",
    "\n",
    "matplotlib.rcParams.update({'font.size': 16})"
   ]
  },
  {
   "cell_type": "markdown",
   "metadata": {},
   "source": [
    "functions to define and manipulate a $Kp$-like index"
   ]
  },
  {
   "cell_type": "code",
   "execution_count": 2,
   "metadata": {
    "collapsed": true
   },
   "outputs": [],
   "source": [
    "def possible_kp_strs():\n",
    "    \"\"\"\n",
    "    all possible Kp strings like:\n",
    "    '0o', '0+', '1-', '1o', ..., '9o'\n",
    "    \"\"\"\n",
    "    poss_kp = ''.join('{0}- {0}o {0}+ '.format(n) for n in range(0, 10))\n",
    "    poss_kp = poss_kp.split()\n",
    "    poss_kp = poss_kp[1:-1]  # '0-' and '9+' do not exist\n",
    "    return poss_kp\n",
    "\n",
    "\n",
    "_ALL_KPS = possible_kp_strs()\n",
    "\n",
    "def random_kp():\n",
    "    \"\"\"an random sample for space of possible Kps\"\"\"\n",
    "    return random.choice(_ALL_KPS)"
   ]
  },
  {
   "cell_type": "markdown",
   "metadata": {},
   "source": [
    "functions for preparing a `dict` and `DataFrame` of the same data."
   ]
  },
  {
   "cell_type": "code",
   "execution_count": 3,
   "metadata": {
    "collapsed": true
   },
   "outputs": [],
   "source": [
    "def date_index(num_periods=100):\n",
    "    \"\"\"\n",
    "    a collection of datetimes\n",
    "    for use as the `dict`'s keys or\n",
    "    the pandas object's index\n",
    "    \"\"\"\n",
    "    start = '1999-12-25'\n",
    "    freq = 'S'\n",
    "    return pd.date_range(start=start, periods=num_periods, freq=freq)\n",
    "\n",
    "\n",
    "def tseries_dict(datetimes):\n",
    "    \"\"\"\n",
    "    a datetime-keyed `dict` whose values are Kps\n",
    "    \n",
    "    the `dict_.keys()` will be the input `datetimes`\n",
    "    \"\"\"\n",
    "    return {t: random_kp() for t in datetimes}\n",
    "\n",
    "def tseries_pandas(tseries_dict):\n",
    "    \"\"\"\n",
    "    pandas timeseries (DataFrame) based on a \n",
    "    time-keyed dictionary `tseries_dict`\n",
    "    \"\"\"\n",
    "    return pd.DataFrame.from_dict(tseries_dict,\n",
    "                                  orient='index').rename(columns={0: 'kp'})\n",
    "\n",
    "\n",
    "def dict_and_pd_data(num_samples):\n",
    "    \"\"\"\n",
    "    give me a time-keyed `dict`\n",
    "    and a `pandas.DataFrame`\n",
    "    with the same (Kp) data\n",
    "    \"\"\"\n",
    "    times = date_index(num_samples)\n",
    "    dict_ = tseries_dict(times)\n",
    "    pdseries = tseries_pandas(dict_)\n",
    "    return dict_, pdseries"
   ]
  },
  {
   "cell_type": "markdown",
   "metadata": {},
   "source": [
    "------------------------------------------------------------------\n",
    "## timings\n",
    "Here, we actually run things to do the timings"
   ]
  },
  {
   "cell_type": "code",
   "execution_count": 4,
   "metadata": {
    "collapsed": false
   },
   "outputs": [
    {
     "name": "stdout",
     "output_type": "stream",
     "text": [
      "5 loops, best of 3: 167 µs per loop\n",
      "The slowest run took 4.00 times longer than the fastest. This could mean that an intermediate result is being cached.\n",
      "5 loops, best of 3: 423 ns per loop\n",
      "5 loops, best of 3: 154 µs per loop\n",
      "5 loops, best of 3: 423 ns per loop\n",
      "5 loops, best of 3: 164 µs per loop\n",
      "5 loops, best of 3: 423 ns per loop\n",
      "5 loops, best of 3: 156 µs per loop\n",
      "5 loops, best of 3: 423 ns per loop\n",
      "5 loops, best of 3: 168 µs per loop\n",
      "5 loops, best of 3: 362 ns per loop\n",
      "5 loops, best of 3: 161 µs per loop\n",
      "5 loops, best of 3: 423 ns per loop\n",
      "5 loops, best of 3: 155 µs per loop\n",
      "5 loops, best of 3: 423 ns per loop\n",
      "5 loops, best of 3: 162 µs per loop\n",
      "5 loops, best of 3: 423 ns per loop\n",
      "5 loops, best of 3: 165 µs per loop\n",
      "5 loops, best of 3: 423 ns per loop\n",
      "5 loops, best of 3: 156 µs per loop\n",
      "5 loops, best of 3: 423 ns per loop\n",
      "5 loops, best of 3: 157 µs per loop\n",
      "5 loops, best of 3: 423 ns per loop\n",
      "5 loops, best of 3: 155 µs per loop\n",
      "5 loops, best of 3: 423 ns per loop\n",
      "5 loops, best of 3: 155 µs per loop\n",
      "5 loops, best of 3: 423 ns per loop\n",
      "5 loops, best of 3: 158 µs per loop\n",
      "5 loops, best of 3: 423 ns per loop\n",
      "5 loops, best of 3: 159 µs per loop\n",
      "5 loops, best of 3: 423 ns per loop\n",
      "5 loops, best of 3: 155 µs per loop\n",
      "5 loops, best of 3: 423 ns per loop\n",
      "The slowest run took 4.89 times longer than the fastest. This could mean that an intermediate result is being cached.\n",
      "5 loops, best of 3: 155 µs per loop\n",
      "5 loops, best of 3: 362 ns per loop\n",
      "The slowest run took 9.06 times longer than the fastest. This could mean that an intermediate result is being cached.\n",
      "5 loops, best of 3: 159 µs per loop\n",
      "5 loops, best of 3: 362 ns per loop\n",
      "The slowest run took 18.42 times longer than the fastest. This could mean that an intermediate result is being cached.\n",
      "5 loops, best of 3: 164 µs per loop\n",
      "5 loops, best of 3: 423 ns per loop\n",
      "The slowest run took 50.47 times longer than the fastest. This could mean that an intermediate result is being cached.\n",
      "5 loops, best of 3: 169 µs per loop\n",
      "5 loops, best of 3: 724 ns per loop\n",
      "The slowest run took 94.70 times longer than the fastest. This could mean that an intermediate result is being cached.\n",
      "5 loops, best of 3: 156 µs per loop\n",
      "5 loops, best of 3: 362 ns per loop\n",
      "The slowest run took 262.45 times longer than the fastest. This could mean that an intermediate result is being cached.\n",
      "5 loops, best of 3: 170 µs per loop\n",
      "5 loops, best of 3: 423 ns per loop\n",
      "The slowest run took 484.64 times longer than the fastest. This could mean that an intermediate result is being cached.\n",
      "5 loops, best of 3: 159 µs per loop\n",
      "5 loops, best of 3: 423 ns per loop\n",
      "The slowest run took 1020.97 times longer than the fastest. This could mean that an intermediate result is being cached.\n",
      "5 loops, best of 3: 168 µs per loop\n",
      "5 loops, best of 3: 362 ns per loop\n",
      "The slowest run took 2349.94 times longer than the fastest. This could mean that an intermediate result is being cached.\n",
      "5 loops, best of 3: 163 µs per loop\n",
      "5 loops, best of 3: 423 ns per loop\n",
      "done\n"
     ]
    }
   ],
   "source": [
    "nums_of_elems = np.logspace(start=0, stop=24, num=25, base=2)\n",
    "\n",
    "# this will hold our results\n",
    "lookup_times = pd.DataFrame(index=nums_of_elems,\n",
    "                            columns=('dict_', 'pandas'))\n",
    "# timings loop\n",
    "for n_elems in nums_of_elems:\n",
    "    dict_, frame = dict_and_pd_data(n_elems)\n",
    "    atime = random.choice(frame.index)  # random time with which to do the lookup\n",
    "    time_pd = %timeit -n5 -o frame.loc[atime, 'kp'];\n",
    "    time_dict = %timeit -n5 -o dict_[atime];\n",
    "    lookup_times.loc[n_elems, 'dict_'] = time_dict.best\n",
    "    lookup_times.loc[n_elems, 'pandas'] = time_pd.best\n",
    "print('done')"
   ]
  },
  {
   "cell_type": "code",
   "execution_count": 7,
   "metadata": {
    "collapsed": false
   },
   "outputs": [
    {
     "data": {
      "text/html": [
       "<div>\n",
       "<table border=\"1\" class=\"dataframe\">\n",
       "  <thead>\n",
       "    <tr style=\"text-align: right;\">\n",
       "      <th></th>\n",
       "      <th>dict_</th>\n",
       "      <th>pandas</th>\n",
       "    </tr>\n",
       "  </thead>\n",
       "  <tbody>\n",
       "    <tr>\n",
       "      <th>1.0</th>\n",
       "      <td>4.22589e-07</td>\n",
       "      <td>0.000167285</td>\n",
       "    </tr>\n",
       "    <tr>\n",
       "      <th>2.0</th>\n",
       "      <td>4.22589e-07</td>\n",
       "      <td>0.000153883</td>\n",
       "    </tr>\n",
       "    <tr>\n",
       "      <th>4.0</th>\n",
       "      <td>4.22589e-07</td>\n",
       "      <td>0.000164448</td>\n",
       "    </tr>\n",
       "    <tr>\n",
       "      <th>8.0</th>\n",
       "      <td>4.22589e-07</td>\n",
       "      <td>0.000155694</td>\n",
       "    </tr>\n",
       "    <tr>\n",
       "      <th>16.0</th>\n",
       "      <td>3.62219e-07</td>\n",
       "      <td>0.000167889</td>\n",
       "    </tr>\n",
       "    <tr>\n",
       "      <th>32.0</th>\n",
       "      <td>4.22589e-07</td>\n",
       "      <td>0.000161429</td>\n",
       "    </tr>\n",
       "    <tr>\n",
       "      <th>64.0</th>\n",
       "      <td>4.22589e-07</td>\n",
       "      <td>0.000155211</td>\n",
       "    </tr>\n",
       "    <tr>\n",
       "      <th>128.0</th>\n",
       "      <td>4.22589e-07</td>\n",
       "      <td>0.000161791</td>\n",
       "    </tr>\n",
       "    <tr>\n",
       "      <th>256.0</th>\n",
       "      <td>4.22589e-07</td>\n",
       "      <td>0.000164749</td>\n",
       "    </tr>\n",
       "    <tr>\n",
       "      <th>512.0</th>\n",
       "      <td>4.22589e-07</td>\n",
       "      <td>0.000155815</td>\n",
       "    </tr>\n",
       "    <tr>\n",
       "      <th>1024.0</th>\n",
       "      <td>4.22589e-07</td>\n",
       "      <td>0.000157324</td>\n",
       "    </tr>\n",
       "    <tr>\n",
       "      <th>2048.0</th>\n",
       "      <td>4.22589e-07</td>\n",
       "      <td>0.00015509</td>\n",
       "    </tr>\n",
       "    <tr>\n",
       "      <th>4096.0</th>\n",
       "      <td>4.22589e-07</td>\n",
       "      <td>0.000154909</td>\n",
       "    </tr>\n",
       "    <tr>\n",
       "      <th>8192.0</th>\n",
       "      <td>4.22589e-07</td>\n",
       "      <td>0.000157686</td>\n",
       "    </tr>\n",
       "    <tr>\n",
       "      <th>16384.0</th>\n",
       "      <td>4.22589e-07</td>\n",
       "      <td>0.000158894</td>\n",
       "    </tr>\n",
       "    <tr>\n",
       "      <th>32768.0</th>\n",
       "      <td>4.22589e-07</td>\n",
       "      <td>0.000155151</td>\n",
       "    </tr>\n",
       "    <tr>\n",
       "      <th>65536.0</th>\n",
       "      <td>3.62219e-07</td>\n",
       "      <td>0.000155151</td>\n",
       "    </tr>\n",
       "    <tr>\n",
       "      <th>131072.0</th>\n",
       "      <td>3.62219e-07</td>\n",
       "      <td>0.000158773</td>\n",
       "    </tr>\n",
       "    <tr>\n",
       "      <th>262144.0</th>\n",
       "      <td>4.22589e-07</td>\n",
       "      <td>0.000163542</td>\n",
       "    </tr>\n",
       "    <tr>\n",
       "      <th>524288.0</th>\n",
       "      <td>7.24439e-07</td>\n",
       "      <td>0.000169156</td>\n",
       "    </tr>\n",
       "    <tr>\n",
       "      <th>1048576.0</th>\n",
       "      <td>3.62219e-07</td>\n",
       "      <td>0.000155935</td>\n",
       "    </tr>\n",
       "    <tr>\n",
       "      <th>2097152.0</th>\n",
       "      <td>4.22589e-07</td>\n",
       "      <td>0.000169941</td>\n",
       "    </tr>\n",
       "    <tr>\n",
       "      <th>4194304.0</th>\n",
       "      <td>4.22589e-07</td>\n",
       "      <td>0.000158652</td>\n",
       "    </tr>\n",
       "    <tr>\n",
       "      <th>8388608.0</th>\n",
       "      <td>3.62219e-07</td>\n",
       "      <td>0.000167949</td>\n",
       "    </tr>\n",
       "    <tr>\n",
       "      <th>16777216.0</th>\n",
       "      <td>4.22589e-07</td>\n",
       "      <td>0.000163119</td>\n",
       "    </tr>\n",
       "  </tbody>\n",
       "</table>\n",
       "</div>"
      ],
      "text/plain": [
       "                  dict_       pandas\n",
       "1.0         4.22589e-07  0.000167285\n",
       "2.0         4.22589e-07  0.000153883\n",
       "4.0         4.22589e-07  0.000164448\n",
       "8.0         4.22589e-07  0.000155694\n",
       "16.0        3.62219e-07  0.000167889\n",
       "32.0        4.22589e-07  0.000161429\n",
       "64.0        4.22589e-07  0.000155211\n",
       "128.0       4.22589e-07  0.000161791\n",
       "256.0       4.22589e-07  0.000164749\n",
       "512.0       4.22589e-07  0.000155815\n",
       "1024.0      4.22589e-07  0.000157324\n",
       "2048.0      4.22589e-07   0.00015509\n",
       "4096.0      4.22589e-07  0.000154909\n",
       "8192.0      4.22589e-07  0.000157686\n",
       "16384.0     4.22589e-07  0.000158894\n",
       "32768.0     4.22589e-07  0.000155151\n",
       "65536.0     3.62219e-07  0.000155151\n",
       "131072.0    3.62219e-07  0.000158773\n",
       "262144.0    4.22589e-07  0.000163542\n",
       "524288.0    7.24439e-07  0.000169156\n",
       "1048576.0   3.62219e-07  0.000155935\n",
       "2097152.0   4.22589e-07  0.000169941\n",
       "4194304.0   4.22589e-07  0.000158652\n",
       "8388608.0   3.62219e-07  0.000167949\n",
       "16777216.0  4.22589e-07  0.000163119"
      ]
     },
     "execution_count": 7,
     "metadata": {},
     "output_type": "execute_result"
    }
   ],
   "source": [
    "lookup_times"
   ]
  },
  {
   "cell_type": "code",
   "execution_count": 8,
   "metadata": {
    "collapsed": false
   },
   "outputs": [
    {
     "data": {
      "text/plain": [
       "<matplotlib.text.Text at 0xb872f28>"
      ]
     },
     "execution_count": 8,
     "metadata": {},
     "output_type": "execute_result"
    },
    {
     "data": {
      "image/png": "[encoded data removed]",
      "text/plain": [
       "<matplotlib.figure.Figure at 0xb7dbd30>"
      ]
     },
     "metadata": {},
     "output_type": "display_data"
    }
   ],
   "source": [
    "ax = lookup_times.plot(logy=True, logx=True, figsize=(11, 9), marker='x')\n",
    "ax.set_ylabel('data structure access times (sec)')\n",
    "ax.set_xlabel('number of elements in data structure')"
   ]
  },
  {
   "cell_type": "code",
   "execution_count": null,
   "metadata": {
    "collapsed": true
   },
   "outputs": [],
   "source": []
  }
 ],
 "metadata": {
  "kernelspec": {
   "display_name": "Python 3",
   "language": "python",
   "name": "python3"
  },
  "language_info": {
   "codemirror_mode": {
    "name": "ipython",
    "version": 3
   },
   "file_extension": ".py",
   "mimetype": "text/x-python",
   "name": "python",
   "nbconvert_exporter": "python",
   "pygments_lexer": "ipython3",
   "version": "3.5.1"
  }
 },
 "nbformat": 4,
 "nbformat_minor": 0
}
